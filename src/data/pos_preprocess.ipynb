{
 "cells": [
  {
   "cell_type": "code",
   "execution_count": null,
   "metadata": {},
   "outputs": [],
   "source": [
    "from pathlib import Path\n",
    "import pandas as pd\n",
    "import spacy\n",
    "nlp = spacy.load('en_core_web_sm')"
   ]
  },
  {
   "cell_type": "code",
   "execution_count": 2,
   "metadata": {},
   "outputs": [],
   "source": [
    "df = {}\n",
    "for split in ['ftqa_train', 'ftqa_val']:\n",
    "    mapping_path='/data/{}.xlsx'.format(split)\n",
    "    mapping = pd.read_excel(mapping_path)\n",
    "    df[split] = mapping.copy()"
   ]
  },
  {
   "cell_type": "code",
   "execution_count": 3,
   "metadata": {},
   "outputs": [],
   "source": [
    "def find_wh(x):\n",
    "    doc = nlp(x)\n",
    "    for token in doc:\n",
    "        if token.tag_ in ['WDT', 'WP', 'WP$', 'WRB']:\n",
    "            qword = token.text[0].upper() + token.text[1:]\n",
    "            if qword == 'Whose' or qword == 'Whom':\n",
    "                qword = 'Who'\n",
    "            elif qword not in ['What', 'How', 'Who', 'Why', 'Where', 'When', 'Which']:\n",
    "                qword = 'None'\n",
    "            return qword\n",
    "    return 'None'"
   ]
  },
  {
   "cell_type": "code",
   "execution_count": null,
   "metadata": {},
   "outputs": [],
   "source": [
    "for i in df.keys():\n",
    "    df[i]['wh'] = df[i]['question'].apply(lambda x: find_wh(x))\n",
    "    df[i] = df[i][df[i]['wh'] != 'None']"
   ]
  },
  {
   "cell_type": "code",
   "execution_count": null,
   "metadata": {},
   "outputs": [],
   "source": [
    "for i in df.keys():\n",
    "    set = i.split('_')[-1]\n",
    "    name = '_'.join(i.split('_')[0:-1])\n",
    "    df[i].to_csv('/data/{}_wh_{}.xlsx'.format(name,set), index=False)"
   ]
  }
 ],
 "metadata": {
  "kernelspec": {
   "display_name": "tch1.7.1",
   "language": "python",
   "name": "python3"
  },
  "language_info": {
   "codemirror_mode": {
    "name": "ipython",
    "version": 3
   },
   "file_extension": ".py",
   "mimetype": "text/x-python",
   "name": "python",
   "nbconvert_exporter": "python",
   "pygments_lexer": "ipython3",
   "version": "3.10.6"
  },
  "orig_nbformat": 4
 },
 "nbformat": 4,
 "nbformat_minor": 2
}
